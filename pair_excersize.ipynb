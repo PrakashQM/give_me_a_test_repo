{
 "cells": [
  {
   "cell_type": "code",
   "execution_count": 1,
   "metadata": {},
   "outputs": [
    {
     "data": {
      "text/html": [
       "<iframe src=http://scikit-learn.org/stable/auto_examples/exercises/plot_cv_diabetes.html#sphx-glr-auto-examples-exercises-plot-cv-diabetes-py width=950 height=350></iframe>"
      ],
      "text/plain": [
       "<IPython.core.display.HTML object>"
      ]
     },
     "execution_count": 1,
     "metadata": {},
     "output_type": "execute_result"
    }
   ],
   "source": [
    "import IPython\n",
    "url = 'http://scikit-learn.org/stable/auto_examples/exercises/plot_cv_diabetes.html#sphx-glr-auto-examples-exercises-plot-cv-diabetes-py'\n",
    "iframe = '<iframe src=' + url + ' width=950 height=350></iframe>'\n",
    "IPython.display.HTML(iframe)"
   ]
  },
  {
   "cell_type": "markdown",
   "metadata": {},
   "source": [
    "# Import the relevant libraries"
   ]
  },
  {
   "cell_type": "code",
   "execution_count": 2,
   "metadata": {},
   "outputs": [],
   "source": [
    "import pandas as pd\n",
    "import numpy as np\n",
    "import seaborn as sns\n",
    "from sklearn.linear_model import LinearRegression, Lasso\n",
    "\n",
    "import matplotlib.pyplot as plt\n",
    "import scipy.stats as stats\n",
    "%matplotlib inline"
   ]
  },
  {
   "cell_type": "markdown",
   "metadata": {},
   "source": [
    "## Read the data into panda dataframe"
   ]
  },
  {
   "cell_type": "code",
   "execution_count": 3,
   "metadata": {},
   "outputs": [],
   "source": [
    "df =pd.read_csv('Lasso_practice_data.csv')"
   ]
  },
  {
   "cell_type": "code",
   "execution_count": 4,
   "metadata": {},
   "outputs": [
    {
     "data": {
      "text/html": [
       "<div>\n",
       "<style scoped>\n",
       "    .dataframe tbody tr th:only-of-type {\n",
       "        vertical-align: middle;\n",
       "    }\n",
       "\n",
       "    .dataframe tbody tr th {\n",
       "        vertical-align: top;\n",
       "    }\n",
       "\n",
       "    .dataframe thead th {\n",
       "        text-align: right;\n",
       "    }\n",
       "</style>\n",
       "<table border=\"1\" class=\"dataframe\">\n",
       "  <thead>\n",
       "    <tr style=\"text-align: right;\">\n",
       "      <th></th>\n",
       "      <th>x1</th>\n",
       "      <th>x2</th>\n",
       "      <th>x3</th>\n",
       "      <th>x4</th>\n",
       "      <th>x5</th>\n",
       "      <th>x6</th>\n",
       "      <th>x7</th>\n",
       "      <th>x8</th>\n",
       "      <th>x9</th>\n",
       "      <th>x10</th>\n",
       "      <th>...</th>\n",
       "      <th>x12</th>\n",
       "      <th>x13</th>\n",
       "      <th>x14</th>\n",
       "      <th>x15</th>\n",
       "      <th>x16</th>\n",
       "      <th>x17</th>\n",
       "      <th>x18</th>\n",
       "      <th>x19</th>\n",
       "      <th>x20</th>\n",
       "      <th>y</th>\n",
       "    </tr>\n",
       "  </thead>\n",
       "  <tbody>\n",
       "    <tr>\n",
       "      <th>0</th>\n",
       "      <td>0.014485</td>\n",
       "      <td>0.461197</td>\n",
       "      <td>-0.194500</td>\n",
       "      <td>0.488717</td>\n",
       "      <td>-2.090401</td>\n",
       "      <td>0.940031</td>\n",
       "      <td>2.016748</td>\n",
       "      <td>-1.273340</td>\n",
       "      <td>1.764350</td>\n",
       "      <td>-0.899677</td>\n",
       "      <td>...</td>\n",
       "      <td>-1.267250</td>\n",
       "      <td>-2.134041</td>\n",
       "      <td>1.015223</td>\n",
       "      <td>-0.051486</td>\n",
       "      <td>-0.986937</td>\n",
       "      <td>0.769463</td>\n",
       "      <td>-0.118029</td>\n",
       "      <td>-0.305543</td>\n",
       "      <td>-0.835995</td>\n",
       "      <td>-0.928682</td>\n",
       "    </tr>\n",
       "    <tr>\n",
       "      <th>1</th>\n",
       "      <td>0.511853</td>\n",
       "      <td>1.780529</td>\n",
       "      <td>-1.577474</td>\n",
       "      <td>-1.974116</td>\n",
       "      <td>-0.517988</td>\n",
       "      <td>0.737993</td>\n",
       "      <td>-0.368043</td>\n",
       "      <td>0.427401</td>\n",
       "      <td>0.601782</td>\n",
       "      <td>1.937597</td>\n",
       "      <td>...</td>\n",
       "      <td>-0.351190</td>\n",
       "      <td>0.009177</td>\n",
       "      <td>0.274529</td>\n",
       "      <td>-0.586530</td>\n",
       "      <td>-0.273991</td>\n",
       "      <td>2.087001</td>\n",
       "      <td>-0.411038</td>\n",
       "      <td>-1.759816</td>\n",
       "      <td>0.271427</td>\n",
       "      <td>-0.800622</td>\n",
       "    </tr>\n",
       "    <tr>\n",
       "      <th>2</th>\n",
       "      <td>0.004413</td>\n",
       "      <td>0.747184</td>\n",
       "      <td>0.194354</td>\n",
       "      <td>-1.153263</td>\n",
       "      <td>-0.451070</td>\n",
       "      <td>-1.535572</td>\n",
       "      <td>0.059043</td>\n",
       "      <td>0.665234</td>\n",
       "      <td>0.846902</td>\n",
       "      <td>0.181277</td>\n",
       "      <td>...</td>\n",
       "      <td>0.479682</td>\n",
       "      <td>0.128315</td>\n",
       "      <td>-1.672293</td>\n",
       "      <td>-0.721750</td>\n",
       "      <td>0.582573</td>\n",
       "      <td>2.382982</td>\n",
       "      <td>-1.393823</td>\n",
       "      <td>-0.693469</td>\n",
       "      <td>-1.896798</td>\n",
       "      <td>0.935358</td>\n",
       "    </tr>\n",
       "    <tr>\n",
       "      <th>3</th>\n",
       "      <td>0.534144</td>\n",
       "      <td>-0.412924</td>\n",
       "      <td>1.318229</td>\n",
       "      <td>1.545906</td>\n",
       "      <td>-0.354998</td>\n",
       "      <td>-1.684463</td>\n",
       "      <td>0.488385</td>\n",
       "      <td>-0.204598</td>\n",
       "      <td>-0.451744</td>\n",
       "      <td>0.359739</td>\n",
       "      <td>...</td>\n",
       "      <td>1.116924</td>\n",
       "      <td>1.081377</td>\n",
       "      <td>2.725351</td>\n",
       "      <td>0.174632</td>\n",
       "      <td>1.111195</td>\n",
       "      <td>0.097257</td>\n",
       "      <td>-1.084416</td>\n",
       "      <td>0.789806</td>\n",
       "      <td>-0.034149</td>\n",
       "      <td>-6.441607</td>\n",
       "    </tr>\n",
       "    <tr>\n",
       "      <th>4</th>\n",
       "      <td>0.150066</td>\n",
       "      <td>0.248695</td>\n",
       "      <td>0.144276</td>\n",
       "      <td>-0.774013</td>\n",
       "      <td>-0.918030</td>\n",
       "      <td>-0.134414</td>\n",
       "      <td>-0.176218</td>\n",
       "      <td>0.211906</td>\n",
       "      <td>1.576961</td>\n",
       "      <td>-0.286534</td>\n",
       "      <td>...</td>\n",
       "      <td>-0.755798</td>\n",
       "      <td>-0.947922</td>\n",
       "      <td>1.544411</td>\n",
       "      <td>-1.238756</td>\n",
       "      <td>0.194689</td>\n",
       "      <td>1.660824</td>\n",
       "      <td>-0.443358</td>\n",
       "      <td>0.047590</td>\n",
       "      <td>1.199521</td>\n",
       "      <td>-4.805004</td>\n",
       "    </tr>\n",
       "  </tbody>\n",
       "</table>\n",
       "<p>5 rows × 21 columns</p>\n",
       "</div>"
      ],
      "text/plain": [
       "         x1        x2        x3        x4        x5        x6        x7  \\\n",
       "0  0.014485  0.461197 -0.194500  0.488717 -2.090401  0.940031  2.016748   \n",
       "1  0.511853  1.780529 -1.577474 -1.974116 -0.517988  0.737993 -0.368043   \n",
       "2  0.004413  0.747184  0.194354 -1.153263 -0.451070 -1.535572  0.059043   \n",
       "3  0.534144 -0.412924  1.318229  1.545906 -0.354998 -1.684463  0.488385   \n",
       "4  0.150066  0.248695  0.144276 -0.774013 -0.918030 -0.134414 -0.176218   \n",
       "\n",
       "         x8        x9       x10    ...          x12       x13       x14  \\\n",
       "0 -1.273340  1.764350 -0.899677    ...    -1.267250 -2.134041  1.015223   \n",
       "1  0.427401  0.601782  1.937597    ...    -0.351190  0.009177  0.274529   \n",
       "2  0.665234  0.846902  0.181277    ...     0.479682  0.128315 -1.672293   \n",
       "3 -0.204598 -0.451744  0.359739    ...     1.116924  1.081377  2.725351   \n",
       "4  0.211906  1.576961 -0.286534    ...    -0.755798 -0.947922  1.544411   \n",
       "\n",
       "        x15       x16       x17       x18       x19       x20         y  \n",
       "0 -0.051486 -0.986937  0.769463 -0.118029 -0.305543 -0.835995 -0.928682  \n",
       "1 -0.586530 -0.273991  2.087001 -0.411038 -1.759816  0.271427 -0.800622  \n",
       "2 -0.721750  0.582573  2.382982 -1.393823 -0.693469 -1.896798  0.935358  \n",
       "3  0.174632  1.111195  0.097257 -1.084416  0.789806 -0.034149 -6.441607  \n",
       "4 -1.238756  0.194689  1.660824 -0.443358  0.047590  1.199521 -4.805004  \n",
       "\n",
       "[5 rows x 21 columns]"
      ]
     },
     "execution_count": 4,
     "metadata": {},
     "output_type": "execute_result"
    }
   ],
   "source": [
    "df.head()"
   ]
  },
  {
   "cell_type": "markdown",
   "metadata": {},
   "source": [
    "---"
   ]
  },
  {
   "cell_type": "markdown",
   "metadata": {},
   "source": [
    " > 1) Use the KFold function from sklearn to divide the data into 5 training/test sets.  \n",
    "  2) Tune the <s>lambda</s> alpha parameter in the lasso model by looping over a grid of possible lambdas (sklearn: lasso)"
   ]
  },
  {
   "cell_type": "code",
   "execution_count": 5,
   "metadata": {},
   "outputs": [
    {
     "name": "stdout",
     "output_type": "stream",
     "text": [
      "[fold 0] alpha: 0.01487, score: 0.92112\n",
      "[fold 1] alpha: 0.01487, score: 0.94086\n",
      "[fold 2] alpha: 0.01964, score: 0.92874\n",
      "[fold 3] alpha: 0.02593, score: 0.91483\n",
      "[fold 4] alpha: 0.01964, score: 0.93273\n"
     ]
    }
   ],
   "source": [
    "from sklearn.linear_model import LassoCV\n",
    "from sklearn.model_selection import KFold\n",
    "\n",
    "# k_fold doe not like pandas dataframe\n",
    "y=df['y'].values            # values with convert dataframe to numpy array\n",
    "X=df.drop(['y'],axis=1).values\n",
    "\n",
    "# lets try few alphas\n",
    "alphas = np.logspace(-4, -0.5, 30)  # stolen from sklearn (see above)\n",
    "\n",
    "#alphas = [0.001, 0.005, 0.01, 0.05, 0.1, 0.5, 1, 5, 10]\n",
    "#alphas = [0.4,0.2, 1, 5, 10]\n",
    "\n",
    "# create Lasso cross-validation object with different alphas\n",
    "lasso_cv = LassoCV(alphas=alphas, random_state=0)\n",
    "\n",
    "# create 5 fold cross-validation set\n",
    "k_fold = KFold(5)\n",
    "\n",
    "# search for best alpha in each fold and print the best one\n",
    "for k, (train, test) in enumerate(k_fold.split(X, y)):\n",
    "    lasso_cv.fit(X[train], y[train])\n",
    "    print(\"[fold {0}] alpha: {1:.5f}, score: {2:.5f}\".\n",
    "          format(k, lasso_cv.alpha_, lasso_cv.score(X[test], y[test])))\n"
   ]
  },
  {
   "cell_type": "markdown",
   "metadata": {},
   "source": [
    "---"
   ]
  },
  {
   "cell_type": "markdown",
   "metadata": {},
   "source": [
    "# Set lambda to be the value that minimizes prediction error."
   ]
  },
  {
   "cell_type": "code",
   "execution_count": 6,
   "metadata": {},
   "outputs": [],
   "source": [
    "XX=df.drop(['y'],axis=1)\n",
    "yy=df['y']"
   ]
  },
  {
   "cell_type": "code",
   "execution_count": 7,
   "metadata": {},
   "outputs": [],
   "source": [
    "lr = Lasso(0.01487)\n",
    "fit = lr.fit(XX,yy)"
   ]
  },
  {
   "cell_type": "code",
   "execution_count": 8,
   "metadata": {},
   "outputs": [],
   "source": [
    "Beta=fit.coef_"
   ]
  },
  {
   "cell_type": "code",
   "execution_count": 9,
   "metadata": {},
   "outputs": [],
   "source": [
    "parameter_selection=pd.Series(Beta,index=list(XX.columns))"
   ]
  },
  {
   "cell_type": "markdown",
   "metadata": {},
   "source": [
    "> Run the lasso model again with the optimal lambda determined in step 3. Which variables would you consider excluding on the basis of these results?"
   ]
  },
  {
   "cell_type": "code",
   "execution_count": 10,
   "metadata": {},
   "outputs": [
    {
     "data": {
      "text/plain": [
       "x1    -0.000000\n",
       "x2    -1.796919\n",
       "x3    -0.124331\n",
       "x4     0.000000\n",
       "x5    -0.004644\n",
       "x6     1.843374\n",
       "x7     0.000000\n",
       "x8     0.000000\n",
       "x9    -0.193439\n",
       "x10    0.163808\n",
       "x11   -0.000000\n",
       "x12   -0.002028\n",
       "x13   -0.000000\n",
       "x14   -2.203617\n",
       "x15    0.008245\n",
       "x16    1.005689\n",
       "x17    0.039644\n",
       "x18   -0.012578\n",
       "x19    0.000000\n",
       "x20   -0.340358\n",
       "dtype: float64"
      ]
     },
     "execution_count": 10,
     "metadata": {},
     "output_type": "execute_result"
    }
   ],
   "source": [
    "parameter_selection"
   ]
  },
  {
   "cell_type": "code",
   "execution_count": 112,
   "metadata": {},
   "outputs": [
    {
     "data": {
      "text/plain": [
       "{'alpha': 0.01487,\n",
       " 'copy_X': True,\n",
       " 'fit_intercept': True,\n",
       " 'max_iter': 1000,\n",
       " 'normalize': False,\n",
       " 'positive': False,\n",
       " 'precompute': False,\n",
       " 'random_state': None,\n",
       " 'selection': 'cyclic',\n",
       " 'tol': 0.0001,\n",
       " 'warm_start': False}"
      ]
     },
     "execution_count": 112,
     "metadata": {},
     "output_type": "execute_result"
    }
   ],
   "source": [
    "fit.get_params()"
   ]
  },
  {
   "cell_type": "code",
   "execution_count": null,
   "metadata": {},
   "outputs": [],
   "source": []
  }
 ],
 "metadata": {
  "kernelspec": {
   "display_name": "Python [conda root]",
   "language": "python",
   "name": "conda-root-py"
  },
  "language_info": {
   "codemirror_mode": {
    "name": "ipython",
    "version": 3
   },
   "file_extension": ".py",
   "mimetype": "text/x-python",
   "name": "python",
   "nbconvert_exporter": "python",
   "pygments_lexer": "ipython3",
   "version": "3.6.4"
  }
 },
 "nbformat": 4,
 "nbformat_minor": 2
}
